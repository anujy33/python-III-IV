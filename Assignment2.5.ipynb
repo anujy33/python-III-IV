{
 "cells": [
  {
   "cell_type": "markdown",
   "metadata": {},
   "source": [
    "Problem Statement 1:\n",
    "Write a Python program using function concept that maps list of words into a list of\n",
    "integers representing the lengths of the corresponding words.\n",
    "Hint: ​If a list [ ab,cde,erty] is passed on to the python function output should come as\n",
    "[2,3,4]\n",
    "Here 2,3 and 4 are the lengths of the words in the list.\n",
    "\n",
    "Problem Statement 2:\n",
    "Write a Python function which takes a character (i.e. a string of length 1) and returns\n",
    "True if it is a vowel, False otherwise."
   ]
  },
  {
   "cell_type": "code",
   "execution_count": 59,
   "metadata": {},
   "outputs": [
    {
     "data": {
      "text/plain": [
       "[2, 3, 4]"
      ]
     },
     "execution_count": 59,
     "metadata": {},
     "output_type": "execute_result"
    }
   ],
   "source": [
    "#Problem 1\n",
    "def word_count(list):    \n",
    "    words = []\n",
    "    for item in list: \n",
    "        count = 0\n",
    "        for item1 in item:\n",
    "            count += 1\n",
    "        words.append(count)\n",
    "    return words\n",
    "\n",
    "word_count(['ab','cde','erty'])"
   ]
  },
  {
   "cell_type": "code",
   "execution_count": 60,
   "metadata": {},
   "outputs": [],
   "source": [
    "#Problem 2\n",
    "def word(char):\n",
    "    length = 1\n",
    "    char = char.lower()\n",
    "    char = str(char)\n",
    "    for item in char:\n",
    "        if length==1:\n",
    "            length += 1\n",
    "            if char in ['a','e','i','o','u']:\n",
    "                print ('Given word is a vowel')\n",
    "            else:\n",
    "                print('Given Character is not a vowel')\n",
    "        else:\n",
    "            print(\"Please enter string of length 1\")"
   ]
  },
  {
   "cell_type": "code",
   "execution_count": 61,
   "metadata": {},
   "outputs": [
    {
     "name": "stdout",
     "output_type": "stream",
     "text": [
      "Given word is a vowel\n"
     ]
    }
   ],
   "source": [
    "word('i')"
   ]
  },
  {
   "cell_type": "code",
   "execution_count": null,
   "metadata": {},
   "outputs": [],
   "source": []
  }
 ],
 "metadata": {
  "kernelspec": {
   "display_name": "Python 3",
   "language": "python",
   "name": "python3"
  },
  "language_info": {
   "codemirror_mode": {
    "name": "ipython",
    "version": 3
   },
   "file_extension": ".py",
   "mimetype": "text/x-python",
   "name": "python",
   "nbconvert_exporter": "python",
   "pygments_lexer": "ipython3",
   "version": "3.6.4"
  }
 },
 "nbformat": 4,
 "nbformat_minor": 2
}
