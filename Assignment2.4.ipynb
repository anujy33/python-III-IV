{
 "cells": [
  {
   "cell_type": "markdown",
   "metadata": {},
   "source": [
    "Problem Statement 1:\n",
    "Write a Python Program(with class concepts) to find the area of the triangle using the\n",
    "below formula.\n",
    "area = (s*(s-a)*(s-b)*(s-c)) ** 0.5\n",
    "Function to take the length of the sides of triangle from user should be defined in the\n",
    "parent class and function to calculate the area should be defined in subclass.\n",
    "\n",
    "Problem Statement 2:\n",
    "Write a function filter_long_words() that takes a list of words and an integer n and returns\n",
    "the list of words that are longer than n."
   ]
  },
  {
   "cell_type": "code",
   "execution_count": 2,
   "metadata": {},
   "outputs": [
    {
     "name": "stdout",
     "output_type": "stream",
     "text": [
      "Area of triangle with the parameters given\n",
      "55.31726674375732\n"
     ]
    }
   ],
   "source": [
    "class Sides:\n",
    "    def __init__(self, sideA, sideB, sideC):\n",
    "        self.sideA = sideA\n",
    "        self.sideB = sideB\n",
    "        self.sideC = sideC\n",
    "class Area(Sides):\n",
    "    def __init__(self,sideA,sideB,sideC):\n",
    "        print('Area of triangle with the parameters given')\n",
    "        super().__init__(sideA, sideB, sideC)\n",
    "    def Area_of_triangle(self):\n",
    "        #super().__init__(sideA, sideB, sideC)\n",
    "        s = float((self.sideA + self.sideB + self.sideC)/2)\n",
    "        area = (s*(s-self.sideA)*(s-self.sideB)*(s-self.sideC))**(1/2)\n",
    "        #print(\"Area of triangle is: %s \" %area)\n",
    "        return area\n",
    "       \n",
    "Area_of_triangle = Area(11,12,11)\n",
    "print(Area_of_triangle.Area_of_triangle())"
   ]
  },
  {
   "cell_type": "code",
   "execution_count": null,
   "metadata": {},
   "outputs": [],
   "source": []
  }
 ],
 "metadata": {
  "kernelspec": {
   "display_name": "Python 3",
   "language": "python",
   "name": "python3"
  },
  "language_info": {
   "codemirror_mode": {
    "name": "ipython",
    "version": 3
   },
   "file_extension": ".py",
   "mimetype": "text/x-python",
   "name": "python",
   "nbconvert_exporter": "python",
   "pygments_lexer": "ipython3",
   "version": "3.6.4"
  }
 },
 "nbformat": 4,
 "nbformat_minor": 2
}
